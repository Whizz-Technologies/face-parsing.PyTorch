{
 "cells": [
  {
   "cell_type": "code",
   "execution_count": 1,
   "metadata": {},
   "outputs": [
    {
     "name": "stdout",
     "output_type": "stream",
     "text": [
      "Results saved at: ./res/test_res\n"
     ]
    }
   ],
   "source": [
    "import os\n",
    "import torch\n",
    "from PIL import Image\n",
    "from torchvision import transforms\n",
    "from model import BiSeNet\n",
    "\n",
    "def evaluate():\n",
    "    # Set up model\n",
    "    net = BiSeNet(n_classes=19)\n",
    "    net.load_state_dict(torch.load('res/cp/79999_iter.pth', map_location=torch.device('cpu')))\n",
    "    net.eval()\n",
    "\n",
    "    # Set up data transformations\n",
    "    to_tensor = transforms.ToTensor()\n",
    "    normalize = transforms.Normalize((0.5, 0.5, 0.5), (0.5, 0.5, 0.5))\n",
    "\n",
    "    # Set up image paths\n",
    "    dspth = r'C:\\Users\\desir\\OneDrive\\Documents\\computer vision\\open_images\\images'  # Directory containing input images\n",
    "    respth = r'./res/test_res'  # Directory to save output parsing maps\n",
    "    os.makedirs(respth, exist_ok=True)\n",
    "\n",
    "    image_list = os.listdir(dspth)\n",
    "\n",
    "    hair_class_index = 17  # Update with the correct class index for hair in your case\n",
    "\n",
    "    for image_name in image_list:\n",
    "        image_path = os.path.join(dspth, image_name)\n",
    "        image = Image.open(image_path).convert('RGB')\n",
    "        image = to_tensor(image)\n",
    "        image = normalize(image)\n",
    "        image = torch.unsqueeze(image, 0)\n",
    "\n",
    "        with torch.no_grad():\n",
    "            out = net(image)\n",
    "            parsing = out[0].squeeze(0).cpu().numpy().argmax(0)\n",
    "\n",
    "        # Extract hair mask based on specified class index\n",
    "        hair_mask = (parsing == hair_class_index).astype('uint8') * 255\n",
    "\n",
    "        # Save the hair mask as an image\n",
    "        hair_mask = Image.fromarray(hair_mask)\n",
    "        hair_mask.save(os.path.join(respth, f'{image_name[:-4]}_hair.png'))\n",
    "\n",
    "    print('Results saved at:', respth)\n",
    "\n",
    "\n",
    "if __name__ == '__main__':\n",
    "    evaluate()\n"
   ]
  },
  {
   "cell_type": "code",
   "execution_count": null,
   "metadata": {},
   "outputs": [],
   "source": []
  }
 ],
 "metadata": {
  "kernelspec": {
   "display_name": "Python 3",
   "language": "python",
   "name": "python3"
  },
  "language_info": {
   "codemirror_mode": {
    "name": "ipython",
    "version": 3
   },
   "file_extension": ".py",
   "mimetype": "text/x-python",
   "name": "python",
   "nbconvert_exporter": "python",
   "pygments_lexer": "ipython3",
   "version": "3.11.3"
  },
  "orig_nbformat": 4
 },
 "nbformat": 4,
 "nbformat_minor": 2
}
