{
 "cells": [
  {
   "cell_type": "code",
   "execution_count": 1,
   "metadata": {},
   "outputs": [
    {
     "name": "stdout",
     "output_type": "stream",
     "text": [
      "Results saved at: ./res/test_res\n"
     ]
    }
   ],
   "source": [
    "from facenet_pytorch import MTCNN, InceptionResnetV1\n",
    "import cv2\n",
    "import os\n",
    "mtcnn = MTCNN()\n",
    "# If required, create a face detection pipeline using MTCNN:\n",
    "model = InceptionResnetV1(pretrained='vggface2').eval()\n",
    "img=cv2.imread(r\"C:\\Users\\desir\\Downloads\\test.jpg\")\n",
    "boxes, _ = mtcnn.detect(img)\n",
    "i = 0\n",
    "for box in boxes:\n",
    "    x1, y1 = int(box[1]), int(box[0])\n",
    "    x2, y2 = int(box[3]), int(box[2])\n",
    "    dx = int((x2 - x1) * 0.4)\n",
    "    dy = int((y2 - y1) * 0.4)\n",
    "    print(dx,dy)\n",
    "    if(dx<40 and dy<40):\n",
    "        continue\n",
    "    filename = f\"{i}.jpg\"\n",
    "    filepath = os.path.join(r\"C:\\Users\\desir\\Downloads\", filename)\n",
    "    cropped_img = img[x1-dx:x2+dx, y1-dy:y2+dy]\n",
    "    \n",
    "    resized_img = cv2.resize(cropped_img, (1024, 1024))\n",
    "   \n",
    "    cv2.imwrite(filepath, resized_img)\n",
    "    \n",
    "    i += 1\n"
   ]
  },
  {
   "cell_type": "code",
   "execution_count": null,
   "metadata": {},
   "outputs": [],
   "source": []
  }
 ],
 "metadata": {
  "kernelspec": {
   "display_name": "Python 3",
   "language": "python",
   "name": "python3"
  },
  "language_info": {
   "codemirror_mode": {
    "name": "ipython",
    "version": 3
   },
   "file_extension": ".py",
   "mimetype": "text/x-python",
   "name": "python",
   "nbconvert_exporter": "python",
   "pygments_lexer": "ipython3",
   "version": "3.11.3"
  },
  "orig_nbformat": 4
 },
 "nbformat": 4,
 "nbformat_minor": 2
}
